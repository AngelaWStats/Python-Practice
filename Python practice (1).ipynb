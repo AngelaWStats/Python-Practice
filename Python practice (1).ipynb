{
 "cells": [
  {
   "cell_type": "markdown",
   "id": "87f66988",
   "metadata": {},
   "source": [
    "#create a pandas series \n",
    "import pandas as pd\n",
    "##from list \n",
    "list=[1,2,3,4,5]\n",
    "print(pd.Series(list))\n",
    "\n",
    "##from simple arrary\n",
    "import numpy as np\n",
    "data=np.array(['s','d','f','g'])\n",
    "print(pd.Series(data,index=[10,11,12,13]))\n",
    "\n",
    "##from disctionary \n",
    "dict={'a':10,'b':11,'c':12}\n",
    "print(pd.Series(dict))\n",
    "\n",
    "##from range function\n",
    "ser=pd.Series(range(1,20,3),index=[x for x in'abcdefg'])\n",
    "print(ser)\n",
    "\n",
    "##make a copy of ser\n",
    "ser1=ser.copy()\n",
    "print(ser1)"
   ]
  },
  {
   "cell_type": "code",
   "execution_count": 18,
   "id": "a5703b1a",
   "metadata": {},
   "outputs": [
    {
     "name": "stdout",
     "output_type": "stream",
     "text": [
      "     x1  x2\n",
      "0   tom   2\n",
      "1  jack   3\n",
      "   name  age\n",
      "0   tom   12\n",
      "1  jack   34\n",
      "2   hum   56\n",
      "       a  b\n",
      "rank1  1  2\n",
      "rank2  3  5\n"
     ]
    }
   ],
   "source": [
    "# create a dataFrame\n",
    "\n",
    "# from list of lists\n",
    "data=[['tom',2],['jack',3]]\n",
    "df=pd.DataFrame(data,columns=['x1','x2'])\n",
    "print(df)\n",
    "\n",
    "#from dictionary of lists\n",
    "data={'name':['tom','jack','hum'],'age':[12,34,56]}\n",
    "df=pd.DataFrame(data)\n",
    "print(df)\n",
    "\n",
    "#from list of dicts\n",
    "data=[{'a':1,'b':2},{'a':3,'b':5}]\n",
    "df=pd.DataFrame(data,index=['rank1','rank2'])\n",
    "print(df)"
   ]
  },
  {
   "cell_type": "code",
   "execution_count": 63,
   "id": "421c0f82",
   "metadata": {},
   "outputs": [],
   "source": [
    "# how to rewrite the sql in pandas https://medium.com/jbennetcodes/how-to-rewrite-your-sql-queries-in-pandas-and-more-149d341fc53e\n",
    "\n",
    "# count, group by , order by \n",
    "import numpy as np\n",
    "airports=pd.DataFrame({'iso_country':['A','B','C','A','B'],'type':[1,np.nan,1,1,2]})\n",
    "airports.groupby(['iso_country','type']).count()\n",
    "airports.groupby(['iso_country','type']).size()\n",
    "airports.groupby(['iso_country','type']).size().to_frame('size').reset_index().sort_values(['iso_country','size'],ascending=[True,False])\n",
    "\n",
    "# having in SQL \n",
    "airports.groupby(['iso_country','type']).filter(lambda g: len(g)>1).groupby(['iso_country','type']).count()\n",
    "\n",
    "#ntop records\n",
    "airports.nlargest(1,'type')\n",
    "\n",
    "# calculate the min max,mean and median type \n",
    "airports['type'].agg(['min','max','mean','median'])\n",
    "airports.agg({'type':['min','max','mean','median']})\n",
    "airports.agg({'type':['min','max','mean','median']}).T\n",
    "\n",
    "# drop/delete the subset of rows \n",
    "airports.drop(airports[airports['iso_country']=='A'].index)\n",
    "airports=airports[airports['iso_country']!='A']\n",
    "\n",
    "\n"
   ]
  },
  {
   "cell_type": "code",
   "execution_count": 62,
   "id": "c09d3223",
   "metadata": {},
   "outputs": [
    {
     "data": {
      "text/html": [
       "<div>\n",
       "<style scoped>\n",
       "    .dataframe tbody tr th:only-of-type {\n",
       "        vertical-align: middle;\n",
       "    }\n",
       "\n",
       "    .dataframe tbody tr th {\n",
       "        vertical-align: top;\n",
       "    }\n",
       "\n",
       "    .dataframe thead th {\n",
       "        text-align: right;\n",
       "    }\n",
       "</style>\n",
       "<table border=\"1\" class=\"dataframe\">\n",
       "  <thead>\n",
       "    <tr style=\"text-align: right;\">\n",
       "      <th></th>\n",
       "      <th>iso_country</th>\n",
       "      <th>type</th>\n",
       "    </tr>\n",
       "  </thead>\n",
       "  <tbody>\n",
       "    <tr>\n",
       "      <th>1</th>\n",
       "      <td>B</td>\n",
       "      <td>NaN</td>\n",
       "    </tr>\n",
       "    <tr>\n",
       "      <th>2</th>\n",
       "      <td>C</td>\n",
       "      <td>1.0</td>\n",
       "    </tr>\n",
       "    <tr>\n",
       "      <th>4</th>\n",
       "      <td>B</td>\n",
       "      <td>2.0</td>\n",
       "    </tr>\n",
       "  </tbody>\n",
       "</table>\n",
       "</div>"
      ],
      "text/plain": [
       "  iso_country  type\n",
       "1           B   NaN\n",
       "2           C   1.0\n",
       "4           B   2.0"
      ]
     },
     "execution_count": 62,
     "metadata": {},
     "output_type": "execute_result"
    }
   ],
   "source": [
    "airports.drop(airports[airports['iso_country']=='A'].index)"
   ]
  },
  {
   "cell_type": "code",
   "execution_count": 66,
   "id": "7bbb1faa",
   "metadata": {},
   "outputs": [],
   "source": [
    "airports.reset_index(drop=True,inplace=True)"
   ]
  },
  {
   "cell_type": "code",
   "execution_count": null,
   "id": "d286c8c5",
   "metadata": {},
   "outputs": [],
   "source": []
  }
 ],
 "metadata": {
  "kernelspec": {
   "display_name": "Python 3 (ipykernel)",
   "language": "python",
   "name": "python3"
  },
  "language_info": {
   "codemirror_mode": {
    "name": "ipython",
    "version": 3
   },
   "file_extension": ".py",
   "mimetype": "text/x-python",
   "name": "python",
   "nbconvert_exporter": "python",
   "pygments_lexer": "ipython3",
   "version": "3.9.12"
  }
 },
 "nbformat": 4,
 "nbformat_minor": 5
}
